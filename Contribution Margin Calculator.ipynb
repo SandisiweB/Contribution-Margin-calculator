{
 "cells": [
  {
   "cell_type": "markdown",
   "id": "77fba11e",
   "metadata": {},
   "source": [
    "# Contribution Margin Calculator"
   ]
  },
  {
   "cell_type": "markdown",
   "id": "d9a1aeeb",
   "metadata": {},
   "source": [
    "**Contribution Margin Formula:**\n",
    "\n",
    "CM = (Selling Price per units x number of units) - (Variable Cost per units x number of units)\n",
    "\n",
    "\n",
    "**Contribution Margin Ratio Formula**\n",
    "\n",
    "CM ratio = Contribution Margin/(Selling Price per unit × number of Units) x 100\n",
    "\n",
    "\n",
    "**Contribution Margin Meaning:**\n",
    "\n",
    "Less than 0 Operating at a loss \n",
    "\n",
    "Equal to 0 Break-even point, no profit \n",
    "\n",
    "Above 0 Generating profit \n",
    "\n",
    "where:\n",
    "\n",
    "- Above 0 and up to 20% Low to moderate profitability\n",
    "- Above 20% and up to 50% Moderate to high profitability\n",
    "- Above 50% High profitability"
   ]
  },
  {
   "cell_type": "code",
   "execution_count": 1,
   "id": "3c63dd2d",
   "metadata": {},
   "outputs": [
    {
     "name": "stdout",
     "output_type": "stream",
     "text": [
      "Selling Price per units: 10000\n",
      "Variable Cost per units: 5000\n",
      "numbers of units500\n",
      "Contribution margin: 2500000\n",
      "Contribution margin ratio (%): 50.0\n",
      "Generating profit.\n",
      "High profitability.\n"
     ]
    }
   ],
   "source": [
    "SP_units = int(input('Selling Price per units: '))\n",
    "VC_units = int(input('Variable Cost per units: '))\n",
    "units = int(input('numbers of units'))\n",
    "\n",
    "CM = (SP_units * units) - (VC_units * units)\n",
    "CM_ratio = (CM/(SP_units * units)) * 100\n",
    "\n",
    "print('Contribution margin:', CM)\n",
    "print('Contribution margin ratio (%):', CM_ratio)\n",
    "\n",
    "if CM < 0:\n",
    "    print('Operating at a loss.')\n",
    "elif CM == 0:\n",
    "    print('Break-even point, no profit.')\n",
    "else:\n",
    "    print ('Generating profit.')\n",
    "    if CM_ratio < 20:\n",
    "        print('Low to moderate profitability.')\n",
    "    elif 20 < CM_ratio < 50:\n",
    "        print('Moderate to high profitability.')\n",
    "    else:\n",
    "        print('High profitability.')"
   ]
  },
  {
   "cell_type": "code",
   "execution_count": null,
   "id": "24bee2c3",
   "metadata": {},
   "outputs": [],
   "source": []
  },
  {
   "cell_type": "code",
   "execution_count": null,
   "id": "354006da",
   "metadata": {},
   "outputs": [],
   "source": []
  },
  {
   "cell_type": "code",
   "execution_count": null,
   "id": "ba0976c0",
   "metadata": {},
   "outputs": [],
   "source": []
  },
  {
   "cell_type": "code",
   "execution_count": null,
   "id": "dfb80bfa",
   "metadata": {},
   "outputs": [],
   "source": []
  },
  {
   "cell_type": "code",
   "execution_count": null,
   "id": "0403b0a7",
   "metadata": {},
   "outputs": [],
   "source": []
  },
  {
   "cell_type": "code",
   "execution_count": null,
   "id": "88433055",
   "metadata": {},
   "outputs": [],
   "source": []
  }
 ],
 "metadata": {
  "kernelspec": {
   "display_name": "Python 3 (ipykernel)",
   "language": "python",
   "name": "python3"
  },
  "language_info": {
   "codemirror_mode": {
    "name": "ipython",
    "version": 3
   },
   "file_extension": ".py",
   "mimetype": "text/x-python",
   "name": "python",
   "nbconvert_exporter": "python",
   "pygments_lexer": "ipython3",
   "version": "3.10.9"
  }
 },
 "nbformat": 4,
 "nbformat_minor": 5
}
